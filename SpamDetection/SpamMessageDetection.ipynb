{
 "cells": [
  {
   "metadata": {},
   "cell_type": "markdown",
   "source": [
    "# This is a  Jupyter Notebook for Spam Message Detection\n",
    "\n",
    "Below is an example of a code cell. \n",
    "Put your cursor into the cell and press Shift+Enter to execute it and select the next one, or click 'Run Cell' button.\n",
    "\n",
    "Press Double Shift to search everywhere for classes, files, tool windows, actions, and settings.\n",
    "\n",
    "To learn more about Jupyter Notebooks in PyCharm, see [help](https://www.jetbrains.com/help/pycharm/ipython-notebook-support.html).\n",
    "For an overview of PyCharm, go to Help -> Learn IDE features or refer to [our documentation](https://www.jetbrains.com/help/pycharm/getting-started.html)."
   ],
   "id": "c67197535c8b6924"
  },
  {
   "metadata": {},
   "cell_type": "code",
   "outputs": [],
   "execution_count": null,
   "source": "print(\"Hello World!\")\n",
   "id": "7d343f259ee60639"
  },
  {
   "metadata": {},
   "cell_type": "code",
   "outputs": [],
   "execution_count": null,
   "source": [
    "import numpy as np\n",
    "import pandas as pd\n",
    "import matplotlib.pyplot as plt\n",
    "\n",
    "print('Hello World')"
   ],
   "id": "7b4216c9e6e36cda"
  },
  {
   "metadata": {},
   "cell_type": "code",
   "outputs": [],
   "execution_count": null,
   "source": [
    "df = pd.read_csv('spam.tsv', sep='\\t')\n",
    "# Display the first few rows\n",
    "print(df.head())"
   ],
   "id": "2ad7f7eac6de3f77"
  },
  {
   "metadata": {},
   "cell_type": "code",
   "outputs": [],
   "execution_count": null,
   "source": "print(df.isnull().sum());",
   "id": "38b3f5df71cacafa"
  },
  {
   "metadata": {},
   "cell_type": "code",
   "outputs": [],
   "execution_count": null,
   "source": [
    "print(df.shape)\n",
    "df['label'].value_counts()"
   ],
   "id": "e153a817143e4660"
  },
  {
   "metadata": {},
   "cell_type": "code",
   "outputs": [],
   "execution_count": null,
   "source": [
    "#dataset balancing\n",
    "ham=df[df['label'] == 'ham']\n",
    "ham.shape\n"
   ],
   "id": "db1b2ebf9ddb2769"
  },
  {
   "metadata": {},
   "cell_type": "code",
   "outputs": [],
   "execution_count": null,
   "source": [
    "spam = df[df['label'] == 'spam']\n",
    "spam.shape"
   ],
   "id": "29dc32b3dda24136"
  },
  {
   "metadata": {},
   "cell_type": "code",
   "outputs": [],
   "execution_count": null,
   "source": [
    "ham=ham.sample(spam.shape[0])\n",
    "ham.shape"
   ],
   "id": "b8cbd4f4dd59b7ce"
  },
  {
   "metadata": {},
   "cell_type": "code",
   "outputs": [],
   "execution_count": null,
   "source": [
    "data=pd.concat([ham, spam], axis=0, ignore_index=True)\n",
    "data.label"
   ],
   "id": "d7ae998c39de2b07"
  },
  {
   "metadata": {},
   "cell_type": "code",
   "outputs": [],
   "execution_count": null,
   "source": "data.sample(5)",
   "id": "9d1b946fd8b5fc3d"
  },
  {
   "metadata": {},
   "cell_type": "code",
   "outputs": [],
   "execution_count": null,
   "source": [
    "#### evaluate the data\n",
    "plt.rcParams['figure.dpi'] = 200\n",
    "plt.rcParams['figure.figsize'] = (10, 4)\n",
    "plt.style.use('ggplot')\n"
   ],
   "id": "ac13e19cc8308401"
  },
  {
   "metadata": {},
   "cell_type": "code",
   "outputs": [],
   "execution_count": null,
   "source": "ham.columns",
   "id": "26b4f7054e2422bd"
  },
  {
   "metadata": {},
   "cell_type": "code",
   "outputs": [],
   "execution_count": null,
   "source": [
    "plt.hist(ham['length'], bins=100, color='green', alpha=0.7, label='HAM')\n",
    "plt.hist(spam['length'], bins=100, color='red', alpha=0.7, label='SPAM')\n",
    "plt.title('Length of Messages')\n",
    "plt.legend()\n",
    "plt.show()"
   ],
   "id": "b0c2f6afcc4a4dbc"
  },
  {
   "metadata": {},
   "cell_type": "code",
   "outputs": [],
   "execution_count": null,
   "source": [
    "plt.hist(ham['punct'], bins=100, color='green', alpha=0.7, label='HAM')\n",
    "plt.hist(spam['punct'], bins=100, color='red', alpha=0.7, label='SPAM')\n",
    "plt.title('Number of Punctuation in Messages')\n",
    "plt.legend()\n",
    "plt.show()"
   ],
   "id": "854f5ee1dcb23ec6"
  },
  {
   "metadata": {},
   "cell_type": "code",
   "outputs": [],
   "execution_count": null,
   "source": [
    "#### Feature Engineering\n",
    "from sklearn.model_selection import  train_test_split\n",
    "from sklearn.ensemble import RandomForestClassifier\n",
    "from sklearn.metrics import classification_report\n",
    "from sklearn.pipeline import Pipeline\n",
    "from sklearn.feature_extraction.text import TfidfVectorizer\n"
   ],
   "id": "a58430a4e4cf0c24"
  },
  {
   "metadata": {},
   "cell_type": "code",
   "outputs": [],
   "execution_count": null,
   "source": [
    "x_train,  x_test,y_train, y_test = train_test_split(data['message'], data['label'], test_size=0.2, random_state=0,shuffle=True, stratify=data['label'])\n",
    "x_train.shape, y_train.shape, x_test.shape, y_test.shape"
   ],
   "id": "154aec1def00551c"
  },
  {
   "metadata": {},
   "cell_type": "code",
   "outputs": [],
   "execution_count": null,
   "source": [
    "pipeline = Pipeline([('TfidfVectorizer', TfidfVectorizer()),\n",
    "                     ('RandomForestClassifier', RandomForestClassifier(n_estimators=100, n_jobs=-1))])\n",
    "pipeline.fit(x_train, y_train)"
   ],
   "id": "37414dc295dd00c7"
  },
  {
   "metadata": {},
   "cell_type": "code",
   "outputs": [],
   "execution_count": null,
   "source": "y_pred = pipeline.predict(x_test)",
   "id": "51cd5aae198ca18e"
  },
  {
   "metadata": {},
   "cell_type": "code",
   "outputs": [],
   "execution_count": null,
   "source": "print(classification_report(y_test, y_pred))",
   "id": "6f15e5bcf9f08d7f"
  },
  {
   "metadata": {},
   "cell_type": "code",
   "outputs": [],
   "execution_count": null,
   "source": "pipeline.predict(['Congratulations! You have won a lottery of $1000. Please contact us to claim your prize.', 'hi there, how are you?', 'your otp is 0913-12i43'])",
   "id": "d72541e3c7b9efc2"
  },
  {
   "metadata": {},
   "cell_type": "code",
   "outputs": [],
   "execution_count": null,
   "source": [
    "import pickle\n",
    "pickle.dump(pipeline, open('spam_model.pkl', 'wb'))"
   ],
   "id": "fa90a347aef0e8e3"
  },
  {
   "metadata": {},
   "cell_type": "code",
   "outputs": [],
   "execution_count": null,
   "source": "model = pickle.load(open('spam_model.pkl', 'rb'))",
   "id": "e16eee1c80091f48"
  },
  {
   "metadata": {},
   "cell_type": "code",
   "outputs": [],
   "execution_count": null,
   "source": "model.predict(['Congratulations! You have won a lottery of $1000. Please contact us to claim your prize.', 'hi there, how are you?', 'your otp is 0913-12i43'])",
   "id": "a10e304fb9a02d3a"
  },
  {
   "metadata": {},
   "cell_type": "code",
   "outputs": [],
   "execution_count": null,
   "source": "",
   "id": "b556703b4c53c9e2"
  }
 ],
 "metadata": {},
 "nbformat": 5,
 "nbformat_minor": 9
}
